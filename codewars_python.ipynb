{
 "cells": [
  {
   "cell_type": "markdown",
   "metadata": {},
   "source": [
    "#### Convert number to reversed array of digits\n",
    "Given a random non-negative number, you have to return the digits of this number within an array in reverse order.\n",
    "https://www.codewars.com/kata/5583090cbe83f4fd8c000051/train/python\n",
    "\n",
    "Example:\n",
    "``` \n",
    "348597 => [7,9,5,8,4,3]\n",
    "0 => [0] \n",
    "``` "
   ]
  },
  {
   "cell_type": "code",
   "execution_count": 35,
   "metadata": {},
   "outputs": [
    {
     "name": "stdout",
     "output_type": "stream",
     "text": [
      "[3, 4, 12, 17, 19, 21, 23, 26, 30]\n",
      "[3, 4, 12, 17, 19, 21, 23, 26, 30]\n",
      "no\n"
     ]
    }
   ],
   "source": [
    "# Как вариант мы можем преобразовать числов в строку, потом в список и обратно в число\n",
    "\n",
    "# Создадим корзину с цифрами (ваша корзина с цифрами)\n",
    "cart = [3, 4, 12, 17, 19, 21, 23, 26, 30]\n",
    "\n",
    "# Передаем товар кассиру\n",
    "cashier = [] \n",
    "for item in cart:\n",
    "    cashier.append(item)\n",
    "print(cashier)\n",
    "\n",
    "\n",
    "# Передать товары второму кассиру, но с пониманием списка\n",
    "cashier_2 = [item for item in cart]\n",
    "print(cashier_2)\n",
    "\n",
    "x = 1\n",
    "print(\"hi\" if x == 0 else \"no\")\n",
    "\n"
   ]
  }
 ],
 "metadata": {
  "interpreter": {
   "hash": "aee8b7b246df8f9039afb4144a1f6fd8d2ca17a180786b69acc140d282b71a49"
  },
  "kernelspec": {
   "display_name": "Python 3.10.0 64-bit",
   "language": "python",
   "name": "python3"
  },
  "language_info": {
   "codemirror_mode": {
    "name": "ipython",
    "version": 3
   },
   "file_extension": ".py",
   "mimetype": "text/x-python",
   "name": "python",
   "nbconvert_exporter": "python",
   "pygments_lexer": "ipython3",
   "version": "3.10.0"
  },
  "orig_nbformat": 4
 },
 "nbformat": 4,
 "nbformat_minor": 2
}
